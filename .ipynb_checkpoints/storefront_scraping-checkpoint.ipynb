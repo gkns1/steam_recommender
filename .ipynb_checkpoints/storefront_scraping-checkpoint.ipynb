{
 "cells": [
  {
   "cell_type": "code",
   "execution_count": null,
   "metadata": {
    "ExecuteTime": {
     "end_time": "2020-04-08T15:33:38.748925Z",
     "start_time": "2020-04-08T15:33:37.065376Z"
    }
   },
   "outputs": [],
   "source": [
    "import pandas as pd\n",
    "import requests\n",
    "import numpy as np\n",
    "import nltk\n",
    "import json\n",
    "from pandas.io.json import json_normalize\n",
    "import time\n",
    "from bs4 import BeautifulSoup\n",
    "import re\n",
    "import time\n",
    "import math"
   ]
  },
  {
   "cell_type": "code",
   "execution_count": null,
   "metadata": {
    "ExecuteTime": {
     "end_time": "2020-04-08T15:33:42.817297Z",
     "start_time": "2020-04-08T15:33:42.800297Z"
    }
   },
   "outputs": [],
   "source": [
    "# data that's needed from the storefront:\n",
    "# appid to join with the API call data\n",
    "# total reviews and % positive\n",
    "# recent reviews and % positive\n",
    "# popular user-defined tags for the product\n",
    "# review summary\n",
    "#Todo: check other regions & languages for potentially missing IDs\n",
    "\n",
    "class storefront_data():\n",
    "    def __init__(self):\n",
    "        self.apps = 0\n",
    "        self.last_db = pd.read_csv(\"dataframe_supplement.csv\")\n",
    "        self.df_exists = False\n",
    "        self.old_apps = len(self.last_db.index)\n",
    "        self.old_db_used = False\n",
    "    \n",
    "    def get_id_df(self, use_old_db = False):\n",
    "    # if use_old_db is set to True, ignores the API call and loads the old database\n",
    "    # returns applist dataframe and a list apps_lst for scraping\n",
    "        if self.apps == 0 and use_old_db == False:\n",
    "            with open(\"apikey.txt\", \"r\") as f:\n",
    "                key = f.read()\n",
    "                f.close()\n",
    "            try:\n",
    "                games = requests.get('https://api.steampowered.com/IStoreService/GetAppList/v1/?include_games=1&include_dlc=0&include_software=0&include_videos=0&include_hardware=0&key={0}&max_results=50000'.format(key))\n",
    "                pd.set_option(\"display.max_columns\", 500)\n",
    "                games_json = games.json()['response']['apps']\n",
    "                applist = pd.DataFrame(games_json)\n",
    "                applist = applist.sort_values('appid')\n",
    "                applist.reset_index(drop=True)\n",
    "                apps_lst = list(applist['appid'])\n",
    "                self.apps = len(apps_lst)\n",
    "                print(\"returned a new list of %d ids in the latest applist\" % self.apps)\n",
    "            except:\n",
    "                print(\"a problem occured with steam api connection. returning the last api list...\")\n",
    "                applist = self.last_db\n",
    "                apps_lst = list(applist['steam_appid'])\n",
    "                self.apps = len(apps_lst)\n",
    "                self.old_db_used = True\n",
    "            return applist, self.apps\n",
    "        elif self.apps == 0 and use_old_db:\n",
    "            print(\"Loading the old applist...\")\n",
    "            applist = self.last_db\n",
    "            apps_lst = list(applist['steam_appid'])\n",
    "            self.apps = len(apps_lst)\n",
    "            self.old_db_used = True\n",
    "            return applist, self.apps\n",
    "        else:\n",
    "            print(\"apps already generated!\")\n",
    "\n",
    "    def load_df(self, applist = None):\n",
    "        if applist is None:\n",
    "            applist = applist\n",
    "    # add a join with old df\n",
    "    # uses the applist dataframe to set up other fields and returns the dataframe\n",
    "        if self.df_exists == False and self.apps != 0 and self.old_db_used == False:\n",
    "            df = pd.DataFrame()\n",
    "            df['steam_appid'] = applist['appid']\n",
    "            df['tags'] = np.nan\n",
    "            df['reviews_total'] = np.nan\n",
    "            df['reviews_recent'] = np.nan\n",
    "            df['reviews_total_positive_percent'] = np.nan\n",
    "            df['reviews_recent_positive_percent'] = np.nan\n",
    "            df['review_summary'] = np.nan\n",
    "            df['last_refreshed'] = np.nan\n",
    "            print(\"Dataframe set up!\")\n",
    "            self.df_exists = True\n",
    "            if self.last_db is not None:\n",
    "                print(\"updating the last db, there are %d new IDs.\" % (self.apps - self.old_apps))                \n",
    "                df.update(self.last_db)\n",
    "            else:\n",
    "                print(\"old db not found, starting from scratch\")\n",
    "            return df\n",
    "        elif self.old_db_used:\n",
    "            print(\"Using the old db...\")\n",
    "            return self.last_db\n",
    "        elif self.df_exists:\n",
    "            print(\"Dataframe is already set up!\")\n",
    "        else:\n",
    "            print(\"Run setup.get_id_df() first!\")\n",
    "            \n",
    "            \n",
    "    #by default only scrapes data for appids refreshed over 14 days ago, or are found for the first time\n",
    "    #by setting rebuild = True, rebuilds the whole dataframe from scratch\n",
    "    def scrape_storefront(self, df, limit = None, start_time = time.time(), rebuild = False):\n",
    "        if limit is None:\n",
    "             limit = len(df.index)\n",
    "        batch_time = start_time\n",
    "        updated = 0\n",
    "        for i, app in enumerate(df[:limit][\"steam_appid\"]):\n",
    "\n",
    "            batches_total = math.ceil(limit/100)\n",
    "            #the cookie is required to get through the age check for games ranked as \"mature\"\n",
    "            cookies = { 'birthtime': '283993201', 'mature_content': '1' }\n",
    "            updated_days_ago = (df.loc[i, 'last_refreshed'] - start_time) / 86400\n",
    "            if rebuild == True or updated_days_ago > 14 or math.isnan(updated_days_ago):\n",
    "                updated += 1\n",
    "                try:\n",
    "                    text = requests.get('https://store.steampowered.com/app/{0}'.format(app),cookies = cookies).text\n",
    "                except:\n",
    "                    print(\"A timeout error occured, sleeping for 5 minutes and retrying.\")\n",
    "                    time.sleep(300)\n",
    "                    text = requests.get('https://store.steampowered.com/app/{0}'.format(app),cookies = cookies).text\n",
    "                soup = BeautifulSoup(text, \"html.parser\")\n",
    "                tags_regexp = re.findall(r'(?<=,\"name\":\")([^\"]+)',soup.text)\n",
    "                reviews_recent_regexp = re.search(r'(?<=of the )(.)+(?= user reviews for this game are positive.)',soup.text)\n",
    "                reviews_total_regexp = re.search(r'(?<=of the )(.)+(?= user reviews in the last 30 days are positive)',soup.text)\n",
    "                reviews_total_positive_regexp = re.search(r'(\\d\\d)(?=% of the (.)+ user reviews in the last 30 days are positive)',soup.text)\n",
    "                reviews_recent_positive_regexp = re.search(r'(\\d\\d)(?=% of the (.)+ user reviews for this game are positive.)',soup.text)\n",
    "                review_summary = soup.find('span',attrs={\"class\":\"game_review_summary\"})\n",
    "\n",
    "                tags_regexp_string = (', '.join(tags_regexp))\n",
    "\n",
    "                df.loc[i, 'tags'] = tags_regexp_string\n",
    "                if reviews_recent_regexp:\n",
    "                    df.loc[i, 'reviews_total'] = reviews_recent_regexp.group(0)\n",
    "                if reviews_total_regexp:\n",
    "                    df.loc[i, 'reviews_recent'] = reviews_total_regexp.group(0)\n",
    "                if reviews_total_positive_regexp:\n",
    "                    df.loc[i, 'reviews_total_positive_percent'] = reviews_total_positive_regexp.group(0)\n",
    "                if reviews_recent_positive_regexp:\n",
    "                    df.loc[i, 'reviews_recent_positive_percent'] = reviews_recent_positive_regexp.group(0)\n",
    "                if review_summary:\n",
    "                    df.loc[i, 'review_summary'] = review_summary.text\n",
    "                df.loc[i, 'last_refreshed'] = start_time\n",
    "                \n",
    "            if i % 100 == 0 and i != 0:\n",
    "                end_time = time.time()\n",
    "                elapsed = end_time-batch_time\n",
    "                print(\"batch {} of {} finished in {:.2f} seconds.\".format(int(i/100), batches_total, elapsed))\n",
    "                batch_time = time.time()\n",
    "                \n",
    "            elif i == limit-1:\n",
    "                end_time = time.time()\n",
    "                elapsed_batch = end_time-batch_time\n",
    "                elapsed_total = end_time-start_time\n",
    "                print(\"Batch {} of {} finished in {:.2f} seconds. All finished in {:.2f} seconds, {} indexes processed, {} updated!\".format(math.ceil(i/100),batches_total, elapsed_batch,elapsed_total, i+1, updated))\n",
    "                \n",
    "        return df\n",
    "    def save_db(df):\n",
    "        df.to_csv(\"dataframe_supplement.csv\", header=True)"
   ]
  },
  {
   "cell_type": "code",
   "execution_count": null,
   "metadata": {},
   "outputs": [],
   "source": [
    "storefront = storefront_data()\n",
    "applist, limit = storefront.get_id_df()"
   ]
  },
  {
   "cell_type": "code",
   "execution_count": null,
   "metadata": {},
   "outputs": [],
   "source": [
    "df = storefront.load_df(applist)"
   ]
  },
  {
   "cell_type": "code",
   "execution_count": null,
   "metadata": {},
   "outputs": [],
   "source": [
    "df_scraped = storefront.scrape_storefront(df)"
   ]
  },
  {
   "cell_type": "code",
   "execution_count": null,
   "metadata": {},
   "outputs": [],
   "source": [
    "storefront.save_db(df_scraped)"
   ]
  }
 ],
 "metadata": {
  "kernelspec": {
   "display_name": "Python 3",
   "language": "python",
   "name": "python3"
  },
  "language_info": {
   "codemirror_mode": {
    "name": "ipython",
    "version": 3
   },
   "file_extension": ".py",
   "mimetype": "text/x-python",
   "name": "python",
   "nbconvert_exporter": "python",
   "pygments_lexer": "ipython3",
   "version": "3.8.5"
  },
  "toc": {
   "base_numbering": 1,
   "nav_menu": {},
   "number_sections": true,
   "sideBar": true,
   "skip_h1_title": false,
   "title_cell": "Table of Contents",
   "title_sidebar": "Contents",
   "toc_cell": false,
   "toc_position": {},
   "toc_section_display": true,
   "toc_window_display": false
  },
  "varInspector": {
   "cols": {
    "lenName": 16,
    "lenType": 16,
    "lenVar": 40
   },
   "kernels_config": {
    "python": {
     "delete_cmd_postfix": "",
     "delete_cmd_prefix": "del ",
     "library": "var_list.py",
     "varRefreshCmd": "print(var_dic_list())"
    },
    "r": {
     "delete_cmd_postfix": ") ",
     "delete_cmd_prefix": "rm(",
     "library": "var_list.r",
     "varRefreshCmd": "cat(var_dic_list()) "
    }
   },
   "types_to_exclude": [
    "module",
    "function",
    "builtin_function_or_method",
    "instance",
    "_Feature"
   ],
   "window_display": false
  }
 },
 "nbformat": 4,
 "nbformat_minor": 4
}
